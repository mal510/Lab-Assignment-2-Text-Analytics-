{
 "cells": [
  {
   "cell_type": "code",
   "execution_count": 27,
   "id": "5416356a-784e-430a-9270-c122d9fd8634",
   "metadata": {},
   "outputs": [
    {
     "name": "stdout",
     "output_type": "stream",
     "text": [
      "Requirement already satisfied: kagglehub in d:\\anacondanavigator\\lib\\site-packages (0.3.11)\n",
      "Requirement already satisfied: packaging in d:\\anacondanavigator\\lib\\site-packages (from kagglehub) (24.1)\n",
      "Requirement already satisfied: pyyaml in d:\\anacondanavigator\\lib\\site-packages (from kagglehub) (6.0.1)\n",
      "Requirement already satisfied: requests in d:\\anacondanavigator\\lib\\site-packages (from kagglehub) (2.32.3)\n",
      "Requirement already satisfied: tqdm in d:\\anacondanavigator\\lib\\site-packages (from kagglehub) (4.66.5)\n",
      "Requirement already satisfied: charset-normalizer<4,>=2 in d:\\anacondanavigator\\lib\\site-packages (from requests->kagglehub) (3.3.2)\n",
      "Requirement already satisfied: idna<4,>=2.5 in d:\\anacondanavigator\\lib\\site-packages (from requests->kagglehub) (3.7)\n",
      "Requirement already satisfied: urllib3<3,>=1.21.1 in d:\\anacondanavigator\\lib\\site-packages (from requests->kagglehub) (2.2.3)\n",
      "Requirement already satisfied: certifi>=2017.4.17 in d:\\anacondanavigator\\lib\\site-packages (from requests->kagglehub) (2025.1.31)\n",
      "Requirement already satisfied: colorama in d:\\anacondanavigator\\lib\\site-packages (from tqdm->kagglehub) (0.4.6)\n"
     ]
    }
   ],
   "source": [
    "!pip install kagglehub"
   ]
  },
  {
   "cell_type": "code",
   "execution_count": 28,
   "id": "ca78cdcc-f26f-4e8a-b72d-10620da9f56f",
   "metadata": {},
   "outputs": [
    {
     "name": "stdout",
     "output_type": "stream",
     "text": [
      "Warning: Looks like you're using an outdated `kagglehub` version (installed: 0.3.11), please consider upgrading to the latest version (0.3.12).\n",
      "Downloading from https://www.kaggle.com/api/v1/datasets/download/snap/amazon-fine-food-reviews?dataset_version_number=2...\n"
     ]
    },
    {
     "name": "stderr",
     "output_type": "stream",
     "text": [
      "100%|██████████| 242M/242M [00:12<00:00, 19.6MB/s] \n"
     ]
    },
    {
     "name": "stdout",
     "output_type": "stream",
     "text": [
      "Extracting files...\n",
      "C:/Users/User/anaconda_projects/Lab_Assignment_2 C:\\Users\\User\\.cache\\kagglehub\\datasets\\snap\\amazon-fine-food-reviews\\versions\\2\n"
     ]
    }
   ],
   "source": [
    "import kagglehub\n",
    "\n",
    "# Download latest version\n",
    "path = kagglehub.dataset_download(\"snap/amazon-fine-food-reviews\")\n",
    "\n",
    "#print(\"Path to dataset files:\", path)\n",
    "print(r\"C:/Users/User/anaconda_projects/Lab_Assignment_2\", path)\n"
   ]
  },
  {
   "cell_type": "code",
   "execution_count": 29,
   "id": "156a336a-9612-4936-8d93-bef1d9f153bb",
   "metadata": {},
   "outputs": [
    {
     "name": "stdout",
     "output_type": "stream",
     "text": [
      "<class 'pandas.core.frame.DataFrame'>\n",
      "RangeIndex: 568454 entries, 0 to 568453\n",
      "Data columns (total 10 columns):\n",
      " #   Column                  Non-Null Count   Dtype \n",
      "---  ------                  --------------   ----- \n",
      " 0   Id                      568454 non-null  int64 \n",
      " 1   ProductId               568454 non-null  object\n",
      " 2   UserId                  568454 non-null  object\n",
      " 3   ProfileName             568428 non-null  object\n",
      " 4   HelpfulnessNumerator    568454 non-null  int64 \n",
      " 5   HelpfulnessDenominator  568454 non-null  int64 \n",
      " 6   Score                   568454 non-null  int64 \n",
      " 7   Time                    568454 non-null  int64 \n",
      " 8   Summary                 568427 non-null  object\n",
      " 9   Text                    568454 non-null  object\n",
      "dtypes: int64(5), object(5)\n",
      "memory usage: 43.4+ MB\n",
      "None\n",
      "   Id   ProductId          UserId                      ProfileName  \\\n",
      "0   1  B001E4KFG0  A3SGXH7AUHU8GW                       delmartian   \n",
      "1   2  B00813GRG4  A1D87F6ZCVE5NK                           dll pa   \n",
      "2   3  B000LQOCH0   ABXLMWJIXXAIN  Natalia Corres \"Natalia Corres\"   \n",
      "3   4  B000UA0QIQ  A395BORC6FGVXV                             Karl   \n",
      "4   5  B006K2ZZ7K  A1UQRSCLF8GW1T    Michael D. Bigham \"M. Wassir\"   \n",
      "\n",
      "   HelpfulnessNumerator  HelpfulnessDenominator  Score        Time  \\\n",
      "0                     1                       1      5  1303862400   \n",
      "1                     0                       0      1  1346976000   \n",
      "2                     1                       1      4  1219017600   \n",
      "3                     3                       3      2  1307923200   \n",
      "4                     0                       0      5  1350777600   \n",
      "\n",
      "                 Summary                                               Text  \n",
      "0  Good Quality Dog Food  I have bought several of the Vitality canned d...  \n",
      "1      Not as Advertised  Product arrived labeled as Jumbo Salted Peanut...  \n",
      "2  \"Delight\" says it all  This is a confection that has been around a fe...  \n",
      "3         Cough Medicine  If you are looking for the secret ingredient i...  \n",
      "4            Great taffy  Great taffy at a great price.  There was a wid...  \n"
     ]
    }
   ],
   "source": [
    "import pandas as pd\n",
    "\n",
    "# Load the dataset\n",
    "file_path = r\"C:/Users/User/anaconda_projects/Lab_Assignment_2/Reviews.csv\"\n",
    "df = pd.read_csv(file_path)\n",
    "\n",
    "# Display basic info and first few rows to understand structure\n",
    "df_info = df.info()\n",
    "df_head = df.head()\n",
    "\n",
    "print(df_info)\n",
    "print(df_head)"
   ]
  },
  {
   "cell_type": "code",
   "execution_count": 30,
   "id": "7974a89a-2a13-4e10-9b16-0bf2285d2f02",
   "metadata": {},
   "outputs": [
    {
     "name": "stdout",
     "output_type": "stream",
     "text": [
      "<class 'pandas.core.frame.DataFrame'>\n",
      "Index: 298371 entries, 0 to 568452\n",
      "Data columns (total 4 columns):\n",
      " #   Column   Non-Null Count   Dtype         \n",
      "---  ------   --------------   -----         \n",
      " 0   Score    298371 non-null  int64         \n",
      " 1   Summary  298371 non-null  object        \n",
      " 2   Text     298371 non-null  object        \n",
      " 3   Time     298371 non-null  datetime64[ns]\n",
      "dtypes: datetime64[ns](1), int64(1), object(2)\n",
      "memory usage: 11.4+ MB\n",
      "None\n",
      "    Score                          Summary  \\\n",
      "0       5            Good Quality Dog Food   \n",
      "2       4            \"Delight\" says it all   \n",
      "3       2                   Cough Medicine   \n",
      "8       5                       Yay Barley   \n",
      "10      5  The Best Hot Sauce in the World   \n",
      "\n",
      "                                                 Text       Time  \n",
      "0   I have bought several of the Vitality canned d... 2011-04-27  \n",
      "2   This is a confection that has been around a fe... 2008-08-18  \n",
      "3   If you are looking for the secret ingredient i... 2011-06-13  \n",
      "8   Right now I'm mostly just sprouting this so my... 2011-11-23  \n",
      "10  I don't know if it's the cactus or the tequila... 2005-02-08  \n"
     ]
    }
   ],
   "source": [
    "# Step 1: Remove duplicates\n",
    "df = df.drop_duplicates()\n",
    "\n",
    "# Step 2: Drop rows with missing values in important fields\n",
    "df = df.dropna(subset=['ProfileName', 'Summary', 'Text'])\n",
    "\n",
    "# Step 3: Convert 'Time' from Unix timestamp to datetime\n",
    "df['Time'] = pd.to_datetime(df['Time'], unit='s')\n",
    "\n",
    "# Step 4: Remove rows where HelpfulnessDenominator is 0 (to avoid division by zero)\n",
    "df = df[df['HelpfulnessDenominator'] != 0]\n",
    "\n",
    "# Step 5: Keep only relevant columns\n",
    "df_cleaned = df[['Score', 'Summary', 'Text', 'Time']].copy()\n",
    "\n",
    "# Display info\n",
    "print(df_cleaned.info())\n",
    "print(df_cleaned.head())\n"
   ]
  },
  {
   "cell_type": "code",
   "execution_count": 31,
   "id": "da122aa7-3bbc-473c-8865-684563b34c52",
   "metadata": {},
   "outputs": [
    {
     "name": "stdout",
     "output_type": "stream",
     "text": [
      "Bag-of-Words shape: (298371, 5000)\n",
      "TF-IDF shape: (298371, 5000)\n"
     ]
    }
   ],
   "source": [
    "from sklearn.feature_extraction.text import CountVectorizer, TfidfVectorizer\n",
    "\n",
    "# Use only the \"Text\" column for feature extraction\n",
    "texts = df_cleaned['Text']\n",
    "\n",
    "# 1. Bag-of-Words\n",
    "bow_vectorizer = CountVectorizer(max_features=5000)  # limit to top 5000 words\n",
    "X_bow = bow_vectorizer.fit_transform(texts)\n",
    "\n",
    "# 2. TF-IDF\n",
    "tfidf_vectorizer = TfidfVectorizer(max_features=5000)\n",
    "X_tfidf = tfidf_vectorizer.fit_transform(texts)\n",
    "\n",
    "# Display shape to confirm success\n",
    "print(\"Bag-of-Words shape:\", X_bow.shape)\n",
    "print(\"TF-IDF shape:\", X_tfidf.shape)\n"
   ]
  },
  {
   "cell_type": "code",
   "execution_count": 32,
   "id": "ce922306-142c-4ec2-ad7f-dee15c7edcf0",
   "metadata": {},
   "outputs": [
    {
     "name": "stdout",
     "output_type": "stream",
     "text": [
      "Sentiment_Lexicon\n",
      "positive    256644\n",
      "negative     36742\n",
      "neutral       4985\n",
      "Name: count, dtype: int64\n"
     ]
    }
   ],
   "source": [
    "from textblob import TextBlob\n",
    "\n",
    "# Simple sentiment labeling function\n",
    "def get_sentiment(text):\n",
    "    polarity = TextBlob(text).sentiment.polarity\n",
    "    if polarity > 0:\n",
    "        return 'positive'\n",
    "    elif polarity < 0:\n",
    "        return 'negative'\n",
    "    else:\n",
    "        return 'neutral'\n",
    "\n",
    "# Apply to your cleaned dataset\n",
    "df_cleaned['Sentiment_Lexicon'] = df_cleaned['Text'].apply(get_sentiment)\n",
    "\n",
    "# Check distribution\n",
    "print(df_cleaned['Sentiment_Lexicon'].value_counts())\n"
   ]
  },
  {
   "cell_type": "code",
   "execution_count": 33,
   "id": "940b2acf-8aea-4c77-83d2-472cf1e67b0a",
   "metadata": {},
   "outputs": [],
   "source": [
    "def score_to_sentiment(score):\n",
    "    if score >= 4:\n",
    "        return 'positive'\n",
    "    elif score == 3:\n",
    "        return 'neutral'\n",
    "    else:\n",
    "        return 'negative'\n",
    "\n",
    "df_cleaned['Sentiment_Label'] = df_cleaned['Score'].apply(score_to_sentiment)\n"
   ]
  },
  {
   "cell_type": "code",
   "execution_count": 34,
   "id": "1ac74724-a2d1-47d9-9106-35c4e8204fa9",
   "metadata": {},
   "outputs": [],
   "source": [
    "from sklearn.model_selection import train_test_split\n",
    "\n",
    "X = df_cleaned['Text']\n",
    "y = df_cleaned['Sentiment_Label']\n",
    "\n",
    "X_train, X_test, y_train, y_test = train_test_split(X, y, test_size=0.2, random_state=42)\n"
   ]
  },
  {
   "cell_type": "code",
   "execution_count": 35,
   "id": "eeb98391-e9df-4af9-97ef-a35f7c78b6be",
   "metadata": {},
   "outputs": [],
   "source": [
    "from sklearn.feature_extraction.text import TfidfVectorizer\n",
    "\n",
    "vectorizer = TfidfVectorizer(max_features=5000)\n",
    "X_train_tfidf = vectorizer.fit_transform(X_train)\n",
    "X_test_tfidf = vectorizer.transform(X_test)\n"
   ]
  },
  {
   "cell_type": "code",
   "execution_count": 36,
   "id": "836238b8-b519-4c09-ad9f-3e0e124b148e",
   "metadata": {},
   "outputs": [
    {
     "name": "stderr",
     "output_type": "stream",
     "text": [
      "D:\\AnacondaNavigator\\Lib\\site-packages\\sklearn\\linear_model\\_logistic.py:469: ConvergenceWarning: lbfgs failed to converge (status=1):\n",
      "STOP: TOTAL NO. of ITERATIONS REACHED LIMIT.\n",
      "\n",
      "Increase the number of iterations (max_iter) or scale the data as shown in:\n",
      "    https://scikit-learn.org/stable/modules/preprocessing.html\n",
      "Please also refer to the documentation for alternative solver options:\n",
      "    https://scikit-learn.org/stable/modules/linear_model.html#logistic-regression\n",
      "  n_iter_i = _check_optimize_result(\n"
     ]
    },
    {
     "name": "stdout",
     "output_type": "stream",
     "text": [
      "              precision    recall  f1-score   support\n",
      "\n",
      "    negative       0.77      0.74      0.75     11686\n",
      "     neutral       0.52      0.21      0.30      4889\n",
      "    positive       0.89      0.96      0.92     43100\n",
      "\n",
      "    accuracy                           0.85     59675\n",
      "   macro avg       0.73      0.63      0.66     59675\n",
      "weighted avg       0.83      0.85      0.84     59675\n",
      "\n"
     ]
    }
   ],
   "source": [
    "from sklearn.linear_model import LogisticRegression\n",
    "from sklearn.metrics import classification_report\n",
    "\n",
    "model = LogisticRegression()\n",
    "model.fit(X_train_tfidf, y_train)\n",
    "y_pred = model.predict(X_test_tfidf)\n",
    "\n",
    "print(classification_report(y_test, y_pred))\n"
   ]
  },
  {
   "cell_type": "code",
   "execution_count": 37,
   "id": "e64293a0-577c-4691-97d3-a74df45bf292",
   "metadata": {},
   "outputs": [
    {
     "name": "stdout",
     "output_type": "stream",
     "text": [
      "Accuracy: 0.8523\n",
      "Precision: 0.8334\n",
      "Recall: 0.8523\n",
      "F1-Score: 0.8362\n",
      "\n",
      "Classification Report:\n",
      "               precision    recall  f1-score   support\n",
      "\n",
      "    negative       0.77      0.74      0.75     11686\n",
      "     neutral       0.52      0.21      0.30      4889\n",
      "    positive       0.89      0.96      0.92     43100\n",
      "\n",
      "    accuracy                           0.85     59675\n",
      "   macro avg       0.73      0.63      0.66     59675\n",
      "weighted avg       0.83      0.85      0.84     59675\n",
      "\n"
     ]
    },
    {
     "data": {
      "image/png": "[encoded data removed]",
      "text/plain": [
       "<Figure size 640x480 with 2 Axes>"
      ]
     },
     "metadata": {},
     "output_type": "display_data"
    }
   ],
   "source": [
    "from sklearn.metrics import accuracy_score, precision_recall_fscore_support, confusion_matrix, classification_report\n",
    "import seaborn as sns\n",
    "import matplotlib.pyplot as plt\n",
    "\n",
    "# Basic metrics\n",
    "accuracy = accuracy_score(y_test, y_pred)\n",
    "precision, recall, f1, _ = precision_recall_fscore_support(y_test, y_pred, average='weighted')\n",
    "\n",
    "print(f\"Accuracy: {accuracy:.4f}\")\n",
    "print(f\"Precision: {precision:.4f}\")\n",
    "print(f\"Recall: {recall:.4f}\")\n",
    "print(f\"F1-Score: {f1:.4f}\")\n",
    "\n",
    "# Full report\n",
    "print(\"\\nClassification Report:\\n\", classification_report(y_test, y_pred))\n",
    "\n",
    "# Confusion Matrix\n",
    "cm = confusion_matrix(y_test, y_pred, labels=['positive', 'neutral', 'negative'])\n",
    "sns.heatmap(cm, annot=True, fmt='d', xticklabels=['positive', 'neutral', 'negative'], yticklabels=['positive', 'neutral', 'negative'])\n",
    "plt.xlabel(\"Predicted\")\n",
    "plt.ylabel(\"Actual\")\n",
    "plt.title(\"Confusion Matrix\")\n",
    "plt.show()\n"
   ]
  },
  {
   "cell_type": "code",
   "execution_count": 38,
   "id": "6736da24-b883-4ef2-9514-ce75472b8cf8",
   "metadata": {},
   "outputs": [
    {
     "name": "stdout",
     "output_type": "stream",
     "text": [
      "Naive Bayes:\n",
      "               precision    recall  f1-score   support\n",
      "\n",
      "    negative       0.83      0.37      0.51     11686\n",
      "     neutral       0.75      0.00      0.00      4889\n",
      "    positive       0.78      0.99      0.87     43100\n",
      "\n",
      "    accuracy                           0.79     59675\n",
      "   macro avg       0.79      0.45      0.46     59675\n",
      "weighted avg       0.79      0.79      0.73     59675\n",
      "\n"
     ]
    }
   ],
   "source": [
    "from sklearn.naive_bayes import MultinomialNB\n",
    "nb_model = MultinomialNB()\n",
    "nb_model.fit(X_train_tfidf, y_train)\n",
    "y_pred_nb = nb_model.predict(X_test_tfidf)\n",
    "print(\"Naive Bayes:\\n\", classification_report(y_test, y_pred_nb))\n"
   ]
  },
  {
   "cell_type": "code",
   "execution_count": 39,
   "id": "8e3ed0bb-2e8b-48f0-925c-5b4cbb9b4b70",
   "metadata": {},
   "outputs": [
    {
     "name": "stdout",
     "output_type": "stream",
     "text": [
      "SVM:\n",
      "               precision    recall  f1-score   support\n",
      "\n",
      "    negative       0.76      0.75      0.75     11686\n",
      "     neutral       0.60      0.16      0.26      4889\n",
      "    positive       0.89      0.96      0.92     43100\n",
      "\n",
      "    accuracy                           0.85     59675\n",
      "   macro avg       0.75      0.63      0.64     59675\n",
      "weighted avg       0.84      0.85      0.83     59675\n",
      "\n"
     ]
    }
   ],
   "source": [
    "from sklearn.svm import LinearSVC\n",
    "svm_model = LinearSVC()\n",
    "svm_model.fit(X_train_tfidf, y_train)\n",
    "y_pred_svm = svm_model.predict(X_test_tfidf)\n",
    "print(\"SVM:\\n\", classification_report(y_test, y_pred_svm))\n"
   ]
  },
  {
   "cell_type": "code",
   "execution_count": null,
   "id": "d80f4e28-035b-4b8c-b0a5-3caa681d2ece",
   "metadata": {},
   "outputs": [],
   "source": [
    "from sklearn.ensemble import RandomForestClassifier\n",
    "rf_model = RandomForestClassifier(n_estimators=100)\n",
    "rf_model.fit(X_train_tfidf, y_train)\n",
    "y_pred_rf = rf_model.predict(X_test_tfidf)\n",
    "print(\"Random Forest:\\n\", classification_report(y_test, y_pred_rf))\n",
    "\n",
    "## Discussion\n",
    "# Muhammad Aqhmal Bin Abdul Hadi (IS01082817)\n",
    "# Rizwan Bin Mohd Zaini (IS01083529)\n",
    "#While doing the sentiment analysis, we found out that each model has its own strengths and weaknesses, in which each is suited to different use cases. For example, TextBlob is useful for quick sentiment analysis but unfortunately lacks accuracy for complex texts. Meanwhile, Logistic Regression and Naive Bayes are simple models that work well with linearly separable data but they may struggle with more complex relationships. However, SVM and Random Forest are more robust and can handle non-linear relationships better but they come with higher require more tuning. In summary, TextBlob,Logistic Regression and Naive Bayers is good for simple cases, while SVM and Random Forest can handle this sentiment analysis well.\n",
    "\n"
   ]
  }
 ],
 "metadata": {
  "kernelspec": {
   "display_name": "Python [conda env:base] *",
   "language": "python",
   "name": "conda-base-py"
  },
  "language_info": {
   "codemirror_mode": {
    "name": "ipython",
    "version": 3
   },
   "file_extension": ".py",
   "mimetype": "text/x-python",
   "name": "python",
   "nbconvert_exporter": "python",
   "pygments_lexer": "ipython3",
   "version": "3.12.7"
  }
 },
 "nbformat": 4,
 "nbformat_minor": 5
}
